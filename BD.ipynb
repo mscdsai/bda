{
  "nbformat": 4,
  "nbformat_minor": 0,
  "metadata": {
    "colab": {
      "provenance": []
    },
    "kernelspec": {
      "name": "python3",
      "display_name": "Python 3"
    },
    "language_info": {
      "name": "python"
    }
  },
  "cells": [
    {
      "cell_type": "code",
      "source": [],
      "metadata": {
        "id": "zfxPol1k3nV2"
      },
      "execution_count": null,
      "outputs": []
    },
    {
      "cell_type": "code",
      "source": [],
      "metadata": {
        "id": "8_tvZzms3pPD"
      },
      "execution_count": null,
      "outputs": []
    },
    {
      "cell_type": "code",
      "source": [],
      "metadata": {
        "id": "S_lEDfBe3pSN"
      },
      "execution_count": null,
      "outputs": []
    },
    {
      "cell_type": "code",
      "source": [],
      "metadata": {
        "id": "HORBzO8-3pVQ"
      },
      "execution_count": null,
      "outputs": []
    },
    {
      "cell_type": "code",
      "source": [],
      "metadata": {
        "id": "atzmSljT3pX8"
      },
      "execution_count": null,
      "outputs": []
    },
    {
      "cell_type": "code",
      "source": [],
      "metadata": {
        "id": "kYBK2u6s3pbA"
      },
      "execution_count": null,
      "outputs": []
    },
    {
      "cell_type": "code",
      "source": [],
      "metadata": {
        "id": "I_EkzBXy3wO4"
      },
      "execution_count": null,
      "outputs": []
    },
    {
      "cell_type": "code",
      "source": [],
      "metadata": {
        "id": "P3hfwTrx3wSi"
      },
      "execution_count": null,
      "outputs": []
    },
    {
      "cell_type": "code",
      "source": [],
      "metadata": {
        "id": "qveyBVhb3pdj"
      },
      "execution_count": null,
      "outputs": []
    },
    {
      "cell_type": "code",
      "source": [],
      "metadata": {
        "id": "76ZF_BGj3pgN"
      },
      "execution_count": null,
      "outputs": []
    },
    {
      "cell_type": "code",
      "source": [],
      "metadata": {
        "id": "OSNqLMtt3pjO"
      },
      "execution_count": null,
      "outputs": []
    },
    {
      "cell_type": "code",
      "source": [],
      "metadata": {
        "id": "EDEhyf_E3pmE"
      },
      "execution_count": null,
      "outputs": []
    },
    {
      "cell_type": "code",
      "source": [],
      "metadata": {
        "id": "ejH7JFc63poj"
      },
      "execution_count": null,
      "outputs": []
    },
    {
      "cell_type": "code",
      "source": [],
      "metadata": {
        "id": "ooIwYMUZ3prk"
      },
      "execution_count": null,
      "outputs": []
    },
    {
      "cell_type": "code",
      "source": [],
      "metadata": {
        "id": "IgrimolY3pun"
      },
      "execution_count": null,
      "outputs": []
    },
    {
      "cell_type": "code",
      "source": [],
      "metadata": {
        "id": "RTkUtTI73pxw"
      },
      "execution_count": null,
      "outputs": []
    },
    {
      "cell_type": "code",
      "source": [],
      "metadata": {
        "id": "fSqNBToJ3p0x"
      },
      "execution_count": null,
      "outputs": []
    },
    {
      "cell_type": "code",
      "source": [],
      "metadata": {
        "id": "0GnLcW4Z3p3w"
      },
      "execution_count": null,
      "outputs": []
    },
    {
      "cell_type": "code",
      "source": [],
      "metadata": {
        "id": "XB-3d7ej3p67"
      },
      "execution_count": null,
      "outputs": []
    },
    {
      "cell_type": "code",
      "source": [],
      "metadata": {
        "id": "nmlI2fcy3p-B"
      },
      "execution_count": null,
      "outputs": []
    },
    {
      "cell_type": "code",
      "source": [],
      "metadata": {
        "id": "187yjrNp3qA1"
      },
      "execution_count": null,
      "outputs": []
    },
    {
      "cell_type": "code",
      "source": [],
      "metadata": {
        "id": "SEzbt3gk3qDv"
      },
      "execution_count": null,
      "outputs": []
    },
    {
      "cell_type": "code",
      "source": [],
      "metadata": {
        "id": "kYa1NQCg3qGy"
      },
      "execution_count": null,
      "outputs": []
    },
    {
      "cell_type": "code",
      "source": [],
      "metadata": {
        "id": "TbeAX77d3qKJ"
      },
      "execution_count": null,
      "outputs": []
    },
    {
      "cell_type": "code",
      "source": [],
      "metadata": {
        "id": "zBTlG3oi3qNH"
      },
      "execution_count": null,
      "outputs": []
    },
    {
      "cell_type": "code",
      "source": [],
      "metadata": {
        "id": "WiSTBNps3qP5"
      },
      "execution_count": null,
      "outputs": []
    },
    {
      "cell_type": "code",
      "source": [],
      "metadata": {
        "id": "OS0_KQMo3qTc"
      },
      "execution_count": null,
      "outputs": []
    },
    {
      "cell_type": "code",
      "source": [],
      "metadata": {
        "id": "vCWcAcpO3rjP"
      },
      "execution_count": null,
      "outputs": []
    },
    {
      "cell_type": "code",
      "source": [],
      "metadata": {
        "id": "SbvWSLx43rre"
      },
      "execution_count": null,
      "outputs": []
    },
    {
      "cell_type": "code",
      "source": [],
      "metadata": {
        "id": "yjjWChmB3rtB"
      },
      "execution_count": null,
      "outputs": []
    },
    {
      "cell_type": "code",
      "source": [],
      "metadata": {
        "id": "UVxFCiSo3ruT"
      },
      "execution_count": null,
      "outputs": []
    },
    {
      "cell_type": "code",
      "source": [],
      "metadata": {
        "id": "rXZ4eZPC3rvv"
      },
      "execution_count": null,
      "outputs": []
    },
    {
      "cell_type": "code",
      "source": [],
      "metadata": {
        "id": "3hzcLoCj3tJ5"
      },
      "execution_count": null,
      "outputs": []
    },
    {
      "cell_type": "code",
      "source": [],
      "metadata": {
        "id": "WS8STZg53tRB"
      },
      "execution_count": null,
      "outputs": []
    },
    {
      "cell_type": "code",
      "source": [],
      "metadata": {
        "id": "HhSMCslo3tSm"
      },
      "execution_count": null,
      "outputs": []
    },
    {
      "cell_type": "code",
      "source": [],
      "metadata": {
        "id": "FTgf1DAb3tUL"
      },
      "execution_count": null,
      "outputs": []
    },
    {
      "cell_type": "code",
      "source": [],
      "metadata": {
        "id": "2PsmE9-L3tV9"
      },
      "execution_count": null,
      "outputs": []
    },
    {
      "cell_type": "markdown",
      "source": [
        "#sparksql"
      ],
      "metadata": {
        "id": "D1vpJhC_1nEZ"
      }
    },
    {
      "cell_type": "code",
      "execution_count": null,
      "metadata": {
        "id": "YwFj6h2v1j-g"
      },
      "outputs": [],
      "source": [
        "!pip install pyspark\n",
        "\n",
        "from pyspark.sql import SparkSession\n",
        "spark = SparkSession.builder.getOrCreate()\n",
        "import pandas as pd\n",
        "\n",
        "\n",
        "data = [(\"James\",\"Smith\",\"USA\",\"CA\"),(\"Michael\",\"Rose\",\"USA\",\"NY\"),\n",
        "    (\"Robert\",\"Williams\",\"USA\",\"CA\"),(\"Maria\",\"Jones\",\"USA\",\"FL\")\n",
        "  ]\n",
        "columns=[\"firstname\",\"lastname\",\"country\",\"state\"]\n",
        "df=spark.createDataFrame(data=data,schema=columns)\n",
        "#df.printSchema()\n",
        "df.show()\n",
        "#print(df.collect())\n",
        "\n",
        "\n",
        "from pyspark.sql.functions import col,expr\n",
        "data=[(\"2019-01-23\",1),(\"2019-06-24\",2),(\"2019-09-20\",5)]\n",
        "spark.createDataFrame(data).toDF(\"date\",\"increment\") \\\n",
        "    .select(col(\"date\"),col(\"increment\"), \\\n",
        "      expr(\"add_months(to_date(date,'yyyy-MM-dd'),cast(increment as int))\").alias(\"inc_date\")) \\\n",
        "    .show()\n",
        "\n",
        "from pyspark.sql.functions import col\n",
        "from pyspark.sql.functions import to_timestamp, current_timestamp\n",
        "from pyspark.sql.types import StructType, StructField, StringType, IntegerType, LongType\n",
        "spark = SparkSession.builder.appName('SparkByExamples.com').getOrCreate()\n",
        "\n",
        "schema = StructType([\n",
        "            StructField(\"seq\", StringType(), True)])\n",
        "\n",
        "# Modify the data to be a list of strings\n",
        "dates = [['1']]  # Now a list containing a single-element list\n",
        "\n",
        "df = spark.createDataFrame(dates, schema=schema)\n",
        "\n",
        "df.show()"
      ]
    },
    {
      "cell_type": "markdown",
      "source": [
        "#pyspark with pipeine"
      ],
      "metadata": {
        "id": "8rLnLyOfxfLY"
      }
    },
    {
      "cell_type": "code",
      "source": [
        "from pyspark.sql import SparkSession\n",
        "from pyspark import SparkContext\n",
        "spark = SparkSession.builder.getOrCreate()\n",
        "import pandas as pd\n",
        "import pyspark.sql.types as tp\n",
        "from pyspark.ml.feature import Imputer\n",
        "from pyspark.ml.feature import VectorAssembler\n",
        "from pyspark.ml.classification import LogisticRegression\n",
        "\n",
        "#read csv file\n",
        "my_data=spark.read.csv('/content/drive/MyDrive/diabetes.csv',header=True)\n",
        "\n",
        "my_data.show()\n",
        "\n",
        "\n",
        "#see the schema\n",
        "my_data.printSchema()\n",
        "\n",
        "\n",
        "my_schema=tp.StructType(\n",
        "    [\n",
        "        tp.StructField('Pregnancies',tp.IntegerType(),True),\n",
        "        tp.StructField('Glucose',tp.IntegerType(),True),\n",
        "        tp.StructField('BloodPressure',tp.IntegerType(),True),\n",
        "        tp.StructField('SkinThickness',tp.IntegerType(),True),  # values like 1,2,\n",
        "        tp.StructField('Insulin',tp.IntegerType(),True),\n",
        "        tp.StructField('BMI',tp.FloatType(),True),    # values like 0.1,9.2\n",
        "        tp.StructField('DiabetesPedigreeFunction',tp.FloatType(),True),\n",
        "        tp.StructField('Age',tp.IntegerType(),True),\n",
        "        tp.StructField('Outcome',tp.IntegerType(),True)\n",
        "    ]\n",
        ")\n",
        "\n",
        "my_data=spark.read.csv('/content/drive/MyDrive/diabetes.csv',header=True,schema=my_schema)\n",
        "my_data.printSchema()\n",
        "\n",
        "\n",
        "#get dimension of data\n",
        "(my_data.count(),len(my_data.columns))\n",
        "\n",
        "my_data.head()\n",
        "\n",
        "\n",
        "#Replace zero with null for filling missing values\n",
        "from pyspark.sql.functions import when, col\n",
        "\n",
        "def replace_zero_with_null(df):\n",
        "    for i, column_name in enumerate(df.columns):\n",
        "        # Skip first and last column\n",
        "        if i == 0 or i == len(df.columns) - 1:\n",
        "            continue\n",
        "        df = df.withColumn(column_name, when(col(column_name) == 0, None).otherwise(col(column_name)))\n",
        "    return df\n",
        "\n",
        "my_data = replace_zero_with_null(my_data)\n",
        "my_data.show()\n",
        "\n",
        "\n",
        "\n",
        "\n",
        "#impute values in null place in\n",
        "imputer = Imputer(\n",
        "    inputCols=my_data.columns,\n",
        "    outputCols=my_data.columns\n",
        "    ).setStrategy(\"median\")\n",
        "\n",
        "my_data1 = imputer.fit(my_data).transform(my_data)\n",
        "\n",
        "\n",
        "\n",
        "my_data1.show()\n",
        "\n",
        "\n",
        "\n",
        "\n",
        "# specify the input and output columns of the vector assembler\n",
        "assembler = VectorAssembler(inputCols=['Pregnancies',\n",
        "                                       'Glucose',\n",
        "                                       'BloodPressure',\n",
        "                                       'SkinThickness',\n",
        "                                       'Insulin', 'BMI',\n",
        "                                       'DiabetesPedigreeFunction',\n",
        "                                       'Age'],\n",
        "                             outputCol='features')\n",
        "\n",
        "final_data = assembler.transform(my_data1)\n",
        "final_data.select('features', 'Outcome').show()\n",
        "\n",
        "\n",
        "#split data for test and train\n",
        "train_data,test_data=final_data.randomSplit([0.8,0.2])\n",
        "\n",
        "\n",
        "#train the model\n",
        "lr=LogisticRegression(featuresCol='features',labelCol='Outcome', maxIter=10)\n",
        "model=lr.fit(train_data)\n",
        "\n",
        "\n",
        "#test model\n",
        "prediction=model.transform(test_data)\n",
        "prediction.show(5)\n",
        "\n",
        "\n",
        "#create a pipeline\n",
        "from pyspark.ml import Pipeline\n",
        "pipeline = Pipeline(stages=[replace_zero_with_null,imputer, assembler, lr])\n",
        "pipeline_model = pipeline.fit(my_data1)\n",
        "pred = pipeline_model.transform(my_data1)\n",
        "pred.show(5)\n",
        "\n",
        "\n",
        "#create new data for prediction with outcome column\n",
        "Pregnancies=1\n",
        "Glucose=166\n",
        "BloodPressure=72\n",
        "SkinThickness=15\n",
        "Insulin=17\n",
        "BMI=33.6\n",
        "DiabetesPedigreeFunction=0.627\n",
        "Age=50\n",
        "# Add a placeholder value for 'Outcome' (you'll need to determine the appropriate value based on your problem)\n",
        "Outcome = 0\n",
        "new_data=spark.createDataFrame([(Pregnancies,Glucose,BloodPressure,SkinThickness,Insulin,BMI,DiabetesPedigreeFunction,Age, Outcome)],\n",
        "                               ['Pregnancies','Glucose','BloodPressure','SkinThickness','Insulin','BMI','DiabetesPedigreeFunction','Age', 'Outcome'])\n",
        "new_data.show()\n",
        "\n",
        "\n",
        "#predicte new data through pipline\n",
        "pipeline_model.transform(new_data).show()\n",
        "\n",
        "\n",
        "\n",
        "\n"
      ],
      "metadata": {
        "id": "PBWw__bB1qTM"
      },
      "execution_count": null,
      "outputs": []
    },
    {
      "cell_type": "markdown",
      "source": [
        "#AMS"
      ],
      "metadata": {
        "id": "Fcir5InQyfAM"
      }
    },
    {
      "cell_type": "code",
      "source": [
        "stream = [2, 3, 7, 1, 5, 8, 5, 7, 9, 6, 4, 4, 5, 6, 5, 8, 8, 5, 2, 2, 2, 1, 1, 6, 7]  # Given stream values\n",
        "x_values = [1, 3, 5, 10]  # 1-indexed positions\n",
        "\n",
        "# Create a dictionary to store the result\n",
        "result = {}\n",
        "\n",
        "# Length of the stream\n",
        "stream_length = len(stream)\n",
        "\n",
        "# Loop through the x_values and process each\n",
        "for pos in x_values:\n",
        "    index = pos # Convert to 0-indexed\n",
        "    if index < stream_length:\n",
        "        value_at_position = stream[index]\n",
        "        count_in_stream = stream.count(value_at_position)\n",
        "        estimate = stream_length * (2 * count_in_stream - 1)\n",
        "        result[pos] = {\n",
        "            \"x.el\": value_at_position,\n",
        "            \"x.val\": count_in_stream,\n",
        "            \"estimate\": estimate\n",
        "        }\n",
        "\n",
        "# Separate estimate values from result\n",
        "estimates = [info[\"estimate\"] for info in result.values()]\n",
        "\n",
        "# Calculate the average of estimates\n",
        "average_estimate = sum(estimates) / len(estimates) if estimates else 0\n",
        "\n",
        "# Output the result and average estimate\n",
        "print(\"Result Dictionary:\")\n",
        "print(result)\n",
        "print(\"\\nEstimates List:\")\n",
        "print(estimates)\n",
        "print(\"\\nAverage Estimate:\")\n",
        "print(average_estimate)\n"
      ],
      "metadata": {
        "id": "sLqil95dyhTE"
      },
      "execution_count": null,
      "outputs": []
    },
    {
      "cell_type": "markdown",
      "source": [
        "#bloom filter"
      ],
      "metadata": {
        "id": "mv1RSKUiyu62"
      }
    },
    {
      "cell_type": "code",
      "source": [
        "def hash1(x):\n",
        "    return (x + 1) % 17\n",
        "def hash2(x):\n",
        "    return (3 * x + 2) % 17\n",
        "# Initialize bit array and elements\n",
        "size = 18\n",
        "bit_array = [0] * size\n",
        "elements = [15, 10, 3]\n",
        "# Add elements to Bloom filter\n",
        "for x in elements:\n",
        "    bit_array[hash1(x) % size] = 1\n",
        "    bit_array[hash2(x) % size] = 1\n",
        "\n",
        "ne=[5,1,3]\n",
        "# Check each element in the Bloom filter\n",
        "print(bit_array)\n",
        "for x in ne:\n",
        "    if bit_array[hash1(x)] == 1 and bit_array[hash2(x)] == 1:\n",
        "        print(f\"{x} is likely present in the set.\")\n",
        "    else:\n",
        "        print(f\"{x} is not present in the set.\")"
      ],
      "metadata": {
        "id": "MRvGIYdaxkdR"
      },
      "execution_count": null,
      "outputs": []
    },
    {
      "cell_type": "markdown",
      "source": [
        "#flajolet martin"
      ],
      "metadata": {
        "id": "kXR-8XuXy3Bk"
      }
    },
    {
      "cell_type": "code",
      "source": [
        "def hash_function1(x):\n",
        "    return (3 * x + 7) % 32\n",
        "\n",
        "def hash_function2(x):\n",
        "    return (5 * x + 11) % 32\n",
        "\n",
        "def to_binary_string(value, bit_length=5):\n",
        "    return format(value, f'0{bit_length}b')\n",
        "\n",
        "def count_trailing_zeros(binary_value):\n",
        "    return len(binary_value) - len(binary_value.rstrip('0'))\n",
        "\n",
        "# Elements to process\n",
        "elements = [3, 1, 4, 3, 7, 8]\n",
        "\n",
        "# Prepare table data\n",
        "table_data = []\n",
        "max_power_of_two1 = 0  # Initialize the maximum value of 2^r for hash function 1\n",
        "max_power_of_two2 = 0  # Initialize the maximum value of 2^r for hash function 2\n",
        "\n",
        "for element in elements:\n",
        "    # Compute hash values for both functions\n",
        "    hash_value1 = hash_function1(element)\n",
        "    hash_value2 = hash_function2(element)\n",
        "\n",
        "    # Convert hash values to binary\n",
        "    binary_value1 = to_binary_string(hash_value1)\n",
        "    binary_value2 = to_binary_string(hash_value2)\n",
        "\n",
        "    # Count trailing zeros\n",
        "    r1 = count_trailing_zeros(binary_value1)\n",
        "    r2 = count_trailing_zeros(binary_value2)\n",
        "\n",
        "    # Compute power of two\n",
        "    power_of_two1 = 2 ** r1\n",
        "    power_of_two2 = 2 ** r2\n",
        "\n",
        "    # Update maximum power of two values\n",
        "    max_power_of_two1 = max(max_power_of_two1, power_of_two1)\n",
        "    max_power_of_two2 = max(max_power_of_two2, power_of_two2)\n",
        "\n",
        "    # Append row data\n",
        "    table_data.append((element, hash_value1, binary_value1, r1, power_of_two1,\n",
        "                       hash_value2, binary_value2, r2, power_of_two2))\n",
        "\n",
        "# Print table headers\n",
        "print(f\"{'Element':<8} | {'Hash 1 Value':<12} | {'Binary 1 Value':<14} | {'Trailing Zeros 1':<17} | {'2^r1':<6} | {'Hash 2 Value':<12} | {'Binary 2 Value':<14} | {'Trailing Zeros 2':<17} | {'2^r2':<6}\")\n",
        "print(\"-\" * 90)\n",
        "\n",
        "# Print table rows\n",
        "for element, hash_value1, binary_value1, r1, power_of_two1, hash_value2, binary_value2, r2, power_of_two2 in table_data:\n",
        "    print(f\"{element:<8} | {hash_value1:<12} | {binary_value1:<14} | {r1:<17} | {power_of_two1:<6} | {hash_value2:<12} | {binary_value2:<14} | {r2:<17} | {power_of_two2:<6}\")\n",
        "\n",
        "# Compute and print the average of the maximum values of 2^r for both hash functions\n",
        "average_max_power_of_two = (max_power_of_two1 + max_power_of_two2) / 2\n",
        "print(f\"\\nMaximum value of 2^r for Hash Function 1: {max_power_of_two1}\")\n",
        "print(f\"Maximum value of 2^r for Hash Function 2: {max_power_of_two2}\")\n",
        "print(f\"Average of the maximum values of 2^r: {average_max_power_of_two}\")\n"
      ],
      "metadata": {
        "id": "gYbIDoPmy51g"
      },
      "execution_count": null,
      "outputs": []
    },
    {
      "cell_type": "markdown",
      "source": [
        "#Bipartite with normal"
      ],
      "metadata": {
        "id": "3tVzlcXbzAsZ"
      }
    },
    {
      "cell_type": "code",
      "source": [
        "from networkx.algorithms import bipartite\n",
        "\n",
        "\n",
        "!pip install networkx\n",
        "\n",
        "\n",
        "\n",
        "import networkx as nx\n",
        "import matplotlib.pyplot as plt\n",
        "# Create the bipartite graph using a simplified approach\n",
        "B = nx.Graph()\n",
        "edges = [(1, \"a\"), (1, \"b\"), (2, \"b\"), (2, \"c\"), (3, \"c\"), (4, \"a\")]\n",
        "B.add_edges_from(edges)  # Automatically adds nodes when adding edges\n",
        "\n",
        "# Set the positions for the nodes using bipartite_layout (nodes from the first set of edges are used as top nodes)\n",
        "pos = nx.bipartite_layout(B, [1, 2, 3, 4])\n",
        "# Draw the graph with labels\n",
        "nx.draw(B, pos=pos, with_labels=True)\n",
        "# Show the plot\n",
        "plt.show()\n",
        "nx.is_connected(B)\n",
        "\n",
        "\n",
        "\n",
        "# Check if the graph is bipartite\n",
        "is_bipartite = nx.is_bipartite(B)\n",
        "print(f\"Is the graph bipartite? {is_bipartite}\")\n",
        "\n",
        "# Perform bipartite matching\n",
        "matching = nx.bipartite.maximum_matching(B)\n",
        "\n",
        "# Set node positions using bipartite_layout\n",
        "pos = nx.bipartite_layout(B, [1, 2, 3, 4])\n",
        "\n",
        "# Draw the graph with labels\n",
        "nx.draw(B, pos=pos, with_labels=True)\n",
        "\n",
        "# Highlight the matched edges in red\n",
        "nx.draw_networkx_edges(\n",
        "    B,\n",
        "    pos=pos,\n",
        "    edgelist=matching.items(),\n",
        "    width=3,\n",
        "    edge_color=\"red\",\n",
        ")\n",
        "\n",
        "# Show the plot\n",
        "plt.show()\n"
      ],
      "metadata": {
        "id": "q-U7JuN8zFGN"
      },
      "execution_count": null,
      "outputs": []
    },
    {
      "cell_type": "markdown",
      "source": [
        "#bipartite with csv"
      ],
      "metadata": {
        "id": "DdR3D6pIzTCm"
      }
    },
    {
      "cell_type": "code",
      "source": [
        "import pandas as pd\n",
        "import networkx as nx\n",
        "import matplotlib.pyplot as plt\n",
        "\n",
        "# Load the CSV data\n",
        "df = pd.read_csv('/content/Book1.csv')\n",
        "\n",
        "# Create an empty graph\n",
        "B = nx.Graph()\n",
        "\n",
        "# Add nodes with the bipartite attribute\n",
        "B.add_nodes_from(df['source'], bipartite=0)  # Set 1\n",
        "B.add_nodes_from(df['target'], bipartite=1)  # Set 2\n",
        "\n",
        "# Add edges between the nodes\n",
        "edges = list(zip(df['source'], df['target']))\n",
        "B.add_edges_from(edges)\n",
        "\n",
        "# Draw the bipartite graph\n",
        "pos = nx.bipartite_layout(B, df['source'])\n",
        "\n",
        " # Position layout for bipartite graph\n",
        "nx.draw(B, pos, with_labels=True, node_color=['lightblue' if n in df['source'].values else 'lightgreen' for n in B.nodes()])\n",
        "plt.show()\n",
        "\n",
        "\n",
        "\n",
        "# Check if the graph is bipartite\n",
        "is_bipartite = nx.is_bipartite(B)\n",
        "print(f\"Is the graph bipartite? {is_bipartite}\")\n",
        "\n",
        "# Perform bipartite matching\n",
        "matching = nx.bipartite.maximum_matching(B)\n",
        "\n",
        "# Set node positions using bipartite_layout\n",
        "pos = nx.bipartite_layout(B, [1, 2, 3, 4])\n",
        "\n",
        "# Draw the graph with labels\n",
        "nx.draw(B, pos=pos, with_labels=True)\n",
        "\n",
        "# Highlight the matched edges in red\n",
        "nx.draw_networkx_edges(\n",
        "    B,\n",
        "    pos=pos,\n",
        "    edgelist=matching.items(),\n",
        "    width=3,\n",
        "    edge_color=\"red\",\n",
        ")\n",
        "\n",
        "# Show the plot\n",
        "plt.show()\n"
      ],
      "metadata": {
        "id": "se8SFgJ0zVo4"
      },
      "execution_count": null,
      "outputs": []
    },
    {
      "cell_type": "markdown",
      "source": [
        "#ksingles minhashing"
      ],
      "metadata": {
        "id": "7gzDZqowzfLD"
      }
    },
    {
      "cell_type": "code",
      "source": [
        "# Use raw string literals for Windows paths\n",
        "file1_path = r'/content/sample_data/text1.txt'\n",
        "file2_path = r'/content/sample_data/text2.txt'\n",
        "file3_path = r'/content/sample_data/text3.txt'\n",
        "\n",
        "# Function to read a text file\n",
        "def read_text_file(file_path):\n",
        "    with open(file_path, 'r') as file:\n",
        "        content = file.read()\n",
        "    return content\n",
        "\n",
        "# Read each text file\n",
        "text1 = read_text_file(file1_path)\n",
        "text2 = read_text_file(file2_path)\n",
        "text3 = read_text_file(file3_path)\n",
        "\n",
        "# Display the content of each text file\n",
        "print(\"Text 1:\")\n",
        "print(text1)\n",
        "print(\"\\nText 2:\")\n",
        "print(text2)\n",
        "print(\"\\nText 3:\")\n",
        "print(text3)\n",
        "\n",
        "\n",
        "\n",
        "\n",
        "def create_k_shingles(text, k):\n",
        "    words = text.split()\n",
        "    shingles = []\n",
        "    for i in range(len(words) - k + 1):\n",
        "        shingle = \" \".join(words[i:i+k])\n",
        "        shingles.append(shingle)\n",
        "    return shingles\n",
        "\n",
        "\n",
        "# Create 5-shingles for each text file\n",
        "k = 5\n",
        "shingles_text1 = create_k_shingles(text1, k)\n",
        "shingles_text2 = create_k_shingles(text2, k)\n",
        "shingles_text3 = create_k_shingles(text3, k)\n",
        "\n",
        "# Display the 5-shingles from each text file\n",
        "print(\"5-shingles from text1:\")\n",
        "for shingle in shingles_text1:\n",
        "    print(shingle)\n",
        "\n",
        "print(\"\\n5-shingles from text2:\")\n",
        "for shingle in shingles_text2:\n",
        "    print(shingle)\n",
        "\n",
        "print(\"\\n5-shingles from text3:\")\n",
        "for shingle in shingles_text3:\n",
        "    print(shingle)\n",
        "\n",
        "\n",
        "\n",
        "# Combine all shingles to create a set of all unique shingles\n",
        "all_shingles = set(shingles_text1).union(set(shingles_text2)).union(set(shingles_text3))\n",
        "\n",
        "# Create the incidence matrix\n",
        "incidence_matrix = []\n",
        "for shingle in all_shingles:\n",
        "    row = [\n",
        "        1 if shingle in shingles_text1 else 0,\n",
        "        1 if shingle in shingles_text2 else 0,\n",
        "        1 if shingle in shingles_text3 else 0\n",
        "    ]\n",
        "    incidence_matrix.append(row)\n",
        "\n",
        "# Display the incidence matrix\n",
        "print(\"Incidence Matrix (rows represent shingles, columns represent texts):\")\n",
        "for row in incidence_matrix:\n",
        "    print(row)\n",
        "\n",
        "\n",
        "\n",
        "# Assuming incidence_matrix is already defined\n",
        "\n",
        "# Number of rows (number of shingles)\n",
        "num_shingles = len(incidence_matrix)\n",
        "\n",
        "# Number of columns (number of texts)\n",
        "num_texts = len(incidence_matrix[0]) if incidence_matrix else 0  # Assuming all rows have the same length\n",
        "\n",
        "print(f\"Dimensions of the incidence matrix: {num_shingles} x {num_texts}\")\n",
        "\n",
        "# Define the hash functions\n",
        "def hash_function_1(x,n1 , n2):\n",
        "    return (n1 * x + n2) % 551\n",
        "\n",
        "# def hash_function_2(x):\n",
        "#     return (7 * x + 3) % 551\n",
        "\n",
        "# def hash_function_3(x):\n",
        "#     return (3 * x + 1) % 551\n",
        "\n",
        "\n",
        "# Assuming incidence_matrix and hash functions (hash_function_1, hash_function_2, hash_function_3) are already defined\n",
        "\n",
        "# Dimensions of the incidence matrix\n",
        "num_shingles = len(incidence_matrix)\n",
        "num_texts = len(incidence_matrix[0]) if incidence_matrix else 0\n",
        "\n",
        "# Number of hash functions\n",
        "num_hashes = 3  # This corresponds to hash_function_1, hash_function_2, and hash_function_3\n",
        "\n",
        "# Initialize signature matrix with infinity values\n",
        "import math\n",
        "signature_matrix = [[math.inf] * num_texts for _ in range(num_hashes)]\n",
        "\n",
        "# Compute the signature matrix\n",
        "for shingle_idx in range(num_shingles):\n",
        "    for text_idx in range(num_texts):\n",
        "        if incidence_matrix[shingle_idx][text_idx] == 1:\n",
        "            # Compute hashes\n",
        "            hash1 = hash_function_1(shingle_idx,3,5)\n",
        "            hash2 = hash_function_1(shingle_idx,7,3)\n",
        "            hash3 = hash_function_1(shingle_idx,3,1)\n",
        "            # Update signature matrix\n",
        "            signature_matrix[0][text_idx] = min(signature_matrix[0][text_idx], hash1)\n",
        "            signature_matrix[1][text_idx] = min(signature_matrix[1][text_idx], hash2)\n",
        "            signature_matrix[2][text_idx] = min(signature_matrix[2][text_idx], hash3)\n",
        "\n",
        "# Display the signature matrix\n",
        "print(\"Signature Matrix (rows represent hash functions, columns represent texts):\")\n",
        "for row in signature_matrix:\n",
        "    print(row)\n",
        "\n",
        "\n",
        "# In[31]:\n",
        "\n",
        "\n",
        "# Signature matrix (already computed from previous steps)\n",
        "# signature_matrix = [[hash1_text1, hash1_text2, hash1_text3],\n",
        "#                     [hash2_text1, hash2_text2, hash2_text3],\n",
        "#                     [hash3_text1, hash3_text2, hash3_text3]]\n",
        "\n",
        "# Function to calculate Jaccard similarity\n",
        "def jaccard_similarity(set1, set2):\n",
        "    intersection = len(set1.intersection(set2))\n",
        "    union = len(set1.union(set2))\n",
        "    return intersection / union if union != 0 else 0.0\n",
        "\n",
        "# Convert each column of the signature matrix into sets of hash values\n",
        "hash_sets = []\n",
        "for col in range(len(signature_matrix[0])):\n",
        "    hash_set = set()\n",
        "    for row in range(len(signature_matrix)):\n",
        "        hash_set.add(signature_matrix[row][col])\n",
        "    hash_sets.append(hash_set)\n",
        "\n",
        "# Calculate Jaccard similarity between pairs of texts\n",
        "similarity_text1_text2 = jaccard_similarity(hash_sets[0], hash_sets[1])\n",
        "similarity_text1_text3 = jaccard_similarity(hash_sets[0], hash_sets[2])\n",
        "similarity_text2_text3 = jaccard_similarity(hash_sets[1], hash_sets[2])\n",
        "\n",
        "# Display results\n",
        "print(f\"Jaccard similarity between text1 and text2: {similarity_text1_text2}\")\n",
        "print(f\"Jaccard similarity between text1 and text3: {similarity_text1_text3}\")\n",
        "print(f\"Jaccard similarity between text2 and text3: {similarity_text2_text3}\")\n",
        "\n"
      ],
      "metadata": {
        "id": "tf8KJoZgziYF"
      },
      "execution_count": null,
      "outputs": []
    },
    {
      "cell_type": "markdown",
      "source": [
        "#greedy algorithm"
      ],
      "metadata": {
        "id": "DmnhcldezxxN"
      }
    },
    {
      "cell_type": "code",
      "source": [
        "import networkx as nx\n",
        "import matplotlib.pyplot as plt\n",
        "from networkx.algorithms import bipartite\n",
        "\n",
        "# Create a bipartite graph\n",
        "def create_bipartite_graph():\n",
        "    B = nx.Graph()\n",
        "    # Add nodes with the attribute \"bipartite\"\n",
        "    top_nodes = {1, 2, 3}\n",
        "    bottom_nodes = {'a', 'b', 'c'}\n",
        "    B.add_nodes_from(top_nodes, bipartite=0)\n",
        "    B.add_nodes_from(bottom_nodes, bipartite=1)\n",
        "\n",
        "    # Add edges between nodes in the two sets\n",
        "    edges = [(1, 'a'), (1, 'b'), (2, 'b'), (3, 'c')]\n",
        "    B.add_edges_from(edges)\n",
        "\n",
        "    return B, top_nodes, bottom_nodes\n",
        "\n",
        "# Greedy algorithm for maximum matching\n",
        "def greedy_maximum_matching(B, top_nodes, bottom_nodes):\n",
        "    matching = set()  # To store the matching pairs\n",
        "    matched_nodes = set()  # To keep track of matched nodes\n",
        "\n",
        "    # Iterate over edges greedily\n",
        "    for u, v in B.edges():\n",
        "        if u not in matched_nodes and v not in matched_nodes:\n",
        "            matching.add((u, v))\n",
        "            matched_nodes.add(u)\n",
        "            matched_nodes.add(v)\n",
        "\n",
        "    return matching\n",
        "\n",
        "# Step 1: Create a bipartite graph\n",
        "B, top_nodes, bottom_nodes = create_bipartite_graph()\n",
        "\n",
        "# Step 2: Check if the graph is bipartite\n",
        "is_bipartite = bipartite.is_bipartite(B)\n",
        "print(f\"Is the graph bipartite? {is_bipartite}\")\n",
        "\n",
        "# Step 3: Perform greedy maximum matching if bipartite\n",
        "if is_bipartite:\n",
        "    # Apply the greedy maximum matching algorithm\n",
        "    matching = greedy_maximum_matching(B, top_nodes, bottom_nodes)\n",
        "    print(f\"Greedy Maximum Matching: {matching}\")\n",
        "\n",
        "    # Step 4: Plot the graph with matching edges highlighted\n",
        "    pos = nx.bipartite_layout(B, top_nodes)\n",
        "\n",
        "    # Highlight matching edges in red\n",
        "    matching_edges = list(matching)\n",
        "    edge_colors = ['red' if (u, v) in matching_edges or (v, u) in matching_edges else 'black' for u, v in B.edges()]\n",
        "\n",
        "    # Draw the graph with the highlighted matching\n",
        "    nx.draw(B, pos, with_labels=True, edge_color=edge_colors, node_color=['lightblue' if n in top_nodes else 'lightgreen' for n in B.nodes()], node_size=2000, font_size=15)\n",
        "    plt.title(\"Bipartite Graph with Greedy Maximum Matching\")\n",
        "    plt.show()\n",
        "else:\n",
        "    print(\"The graph is not bipartite.\")"
      ],
      "metadata": {
        "colab": {
          "base_uri": "https://localhost:8080/",
          "height": 574
        },
        "id": "gWylYYiczz_o",
        "outputId": "6fc39353-83f2-4b16-8232-21c0f9952df8"
      },
      "execution_count": 2,
      "outputs": [
        {
          "output_type": "stream",
          "name": "stdout",
          "text": [
            "Is the graph bipartite? True\n",
            "Greedy Maximum Matching: {(3, 'c'), (1, 'a'), (2, 'b')}\n"
          ]
        },
        {
          "output_type": "display_data",
          "data": {
            "text/plain": [
              "<Figure size 640x480 with 1 Axes>"
            ],
            "image/png": "[encoded data removed]"
          },
          "metadata": {}
        }
      ]
    },
    {
      "cell_type": "markdown",
      "source": [
        "#ksingles"
      ],
      "metadata": {
        "id": "xfPWWBW20TTF"
      }
    },
    {
      "cell_type": "code",
      "source": [
        "import re\n",
        "from collections import defaultdict\n",
        "import numpy as np\n",
        "\n",
        "def read_text_file(file_path):\n",
        "    with open(file_path, 'r', encoding='utf-8') as file:\n",
        "        text = file.read().lower() # Read text and convert to lowercase\n",
        "        text = re.sub(r'\\s+', ' ', text) # Replace multiple spaces with single space\n",
        "        text = re.sub(r'[^\\w\\s]', '', text) # Remove punctuation\n",
        "        return text\n",
        "\n",
        "def generate_4_shingles(text):\n",
        "    words = text.split() # Split text into words\n",
        "    shingles = []\n",
        "    seen_shingles = set() # To track seen shingles and maintain order\n",
        "\n",
        "    for i in range(len(words) - 3):\n",
        "        shingle = ' '.join(words[i:i+4]) # Create 4-shingle\n",
        "        if shingle not in seen_shingles:\n",
        "            shingles.append(shingle)\n",
        "            seen_shingles.add(shingle)\n",
        "\n",
        "    return shingles\n",
        "\n",
        "def create_incidence_matrix(file_paths):\n",
        "    shingle_counts = defaultdict(int) # Dictionary to store shingle counts\n",
        "    all_shingles = [] # List to store all shingles in order of appearance\n",
        "\n",
        "    # Step 1: Count shingles and collect all unique shingles in order\n",
        "    for file_path in file_paths:\n",
        "        text = read_text_file(file_path)\n",
        "        shingles = generate_4_shingles(text)\n",
        "\n",
        "        for shingle in shingles:\n",
        "            shingle_counts[shingle] += 1\n",
        "            if shingle not in all_shingles:\n",
        "                all_shingles.append(shingle)\n",
        "\n",
        "    num_files = len(file_paths)\n",
        "    num_shingles = len(all_shingles)\n",
        "\n",
        "    # Step 2: Create incidence matrix\n",
        "    incidence_matrix = np.zeros((num_shingles, num_files), dtype=int)\n",
        "\n",
        "    for j, file_path in enumerate(file_paths):\n",
        "        text = read_text_file(file_path)\n",
        "        shingles = generate_4_shingles(text)\n",
        "\n",
        "        for i, shingle in enumerate(all_shingles):\n",
        "            if shingle in shingles:\n",
        "                incidence_matrix[i, j] = 1\n",
        "\n",
        "    return all_shingles, incidence_matrix\n",
        "\n",
        "def print_incidence_matrix(file_paths):\n",
        "    shingles, incidence_matrix = create_incidence_matrix(file_paths)\n",
        "\n",
        "    # Print header\n",
        "    print(\"{:<40} {:<10} {:<10} {:<10}\".format(\"Shingles\", \"txt1\", \"txt2\", \"txt3\"))\n",
        "    print(\"-\" * 70)\n",
        "\n",
        "    # Print matrix\n",
        "    for idx, shingle in enumerate(shingles):\n",
        "        print(\"{:<40} {:<10} {:<10} {:<10}\".format(shingle, incidence_matrix[idx, 0], incidence_matrix[idx, 1], incidence_matrix[idx, 2]))\n",
        "\n",
        "# Example usage:\n",
        "file_paths = [\"/content/drive/MyDrive/1.txt\", \"/content/drive/MyDrive/2.txt\", \"/content/drive/MyDrive/3.txt\"] # Replace with your file paths\n",
        "\n",
        "print_incidence_matrix(file_paths)"
      ],
      "metadata": {
        "id": "1dl5X76-0VAt"
      },
      "execution_count": null,
      "outputs": []
    },
    {
      "cell_type": "markdown",
      "source": [
        "#min hashing"
      ],
      "metadata": {
        "id": "S0zEYp9n0bO-"
      }
    },
    {
      "cell_type": "code",
      "source": [
        "# text=input(\"Enter a string: \")\n",
        "# kval =int(input(\"Enter k-value: \"))\n",
        "text=\"hello\"\n",
        "kval=2\n",
        "def shinglewithsepr(text, kval):\n",
        "  shingles = []\n",
        "  tokens = text.split(\" \")\n",
        "  for i in range(0, len(tokens), kval):\n",
        "      shingle = tokens[i:i + kval]\n",
        "      shingles.append(shingle)\n",
        "  #print(\"Shingles using separator: \", shingles)\n",
        "  return shingles\n",
        "def shinglewithoutsepr(text, kval):\n",
        "  shingles = []\n",
        "  for i in range(len(text)-kval+1):\n",
        "      shingle = text[i:i + kval]\n",
        "      shingles.append(shingle)\n",
        "  #print(\"Shingles without using separator: \", shingles)\n",
        "  return shingles\n",
        "wordshingles = shinglewithsepr(text, kval)\n",
        "charshingles = shinglewithoutsepr(text, kval)\n",
        "\n",
        "\n",
        "\n",
        "import pandas as pd\n",
        "import numpy as np\n",
        "import random\n",
        "# with open(\"1.txt\", \"r\") as file:\n",
        "#   doc1 = file.read()\n",
        "# print(doc1)\n",
        "# with open(\"2.txt\", \"r\") as file:\n",
        "#   doc2 = file.read()\n",
        "# print(doc2)\n",
        "doc1 = \"Today is Monday.\"\n",
        "doc2 = \"Today is a good day.\"\n",
        "doc3 = \"Good day.\"\n",
        "doc4 = \"Tomorrow will be a good day.\"\n",
        "kval =3\n",
        "shingle1 = shinglewithoutsepr(doc1, kval)\n",
        "shingle2 = shinglewithoutsepr(doc2, kval)\n",
        "shingle3 = shinglewithoutsepr(doc3, kval)\n",
        "shingle4 = shinglewithoutsepr(doc4, kval)\n",
        "all_shingles = list(set(shingle1 + shingle2+shingle3+shingle4))\n",
        "print(\"Shingle 1:\", shingle1)\n",
        "print(\"Shingle 2:\", shingle2)\n",
        "print(\"Shingle 3:\", shingle3)\n",
        "print(\"Shingle 4:\", shingle4)\n",
        "print(\"All shingles:\", all_shingles)\n",
        "df = pd.DataFrame(columns=[\"Shingle\", \"doc1\", \"doc2\",\"doc3\",\"doc4\"])\n",
        "df[\"Shingle\"] = all_shingles\n",
        "df.fillna(0, inplace=True)\n",
        "for i in range(len(shingle1)):\n",
        "    df.loc[df[\"Shingle\"] == shingle1[i], \"doc1\"] = 1\n",
        "for i in range(len(shingle2)):\n",
        "    df.loc[df[\"Shingle\"] == shingle2[i], \"doc2\"] = 1\n",
        "for i in range(len(shingle3)):\n",
        "    df.loc[df[\"Shingle\"] == shingle3[i], \"doc3\"] = 1\n",
        "for i in range(len(shingle4)):\n",
        "    df.loc[df[\"Shingle\"] == shingle4[i], \"doc4\"] = 1\n",
        "df[\"Hash1\"] = df.index.map(lambda x: (17 * int(x) + 11) % len(df))\n",
        "df[\"Hash2\"] = df.index.map(lambda x: (7 * int(x) + 11) % len(df))\n",
        "print(len(df))\n",
        "print(df)\n",
        "\n",
        "\n",
        "\n",
        "\n",
        "sig = np.full((2,4), np.inf)\n",
        "for index, row in df.iterrows():\n",
        "   if row[\"doc1\"] == 1:\n",
        "       sig[0, 0] = min(sig[0, 0], row[\"Hash1\"])\n",
        "       sig[1, 0] = min(sig[1, 0], row[\"Hash2\"])\n",
        "   if row[\"doc2\"] == 1:\n",
        "       sig[0, 1] = min(sig[0, 1], row[\"Hash1\"])\n",
        "       sig[1, 1] = min(sig[1, 1], row[\"Hash2\"])\n",
        "   if row[\"doc3\"] == 1:\n",
        "       sig[0, 2] = min(sig[0, 2], row[\"Hash1\"])\n",
        "       sig[1, 2] = min(sig[1, 2], row[\"Hash2\"])\n",
        "   if row[\"doc4\"] == 1:\n",
        "       sig[0, 3] = min(sig[0, 3], row[\"Hash1\"])\n",
        "       sig[1, 3] = min(sig[1, 3], row[\"Hash2\"])\n",
        "print(\"Signature matrix =\\n\",sig)"
      ],
      "metadata": {
        "id": "oVa3y5H10dPt"
      },
      "execution_count": null,
      "outputs": []
    },
    {
      "cell_type": "markdown",
      "source": [
        "#social network"
      ],
      "metadata": {
        "id": "WhlzUBPz0wG4"
      }
    },
    {
      "cell_type": "code",
      "source": [
        "!pip install --upgrade network\n",
        "\n",
        "\n",
        "%matplotlib inline\n",
        "import networkx as nx\n",
        "import pandas as pd\n",
        "import matplotlib.pyplot as plt\n",
        "import matplotlib as mpl\n",
        "import numpy as np\n",
        "import warnings\n",
        "from collections import Counter\n",
        "import sys\n",
        "import os\n",
        "from __future__ import division\n",
        "plt.rcParams[\"figure.figsize\"] = (20,10)\n",
        "import tqdm as tqdm\n",
        "\n",
        "warnings.filterwarnings('ignore')\n",
        "from IPython.core.display import display, HTML\n",
        "display(HTML(\"<style>.container { width:80% !important; }</style>\"))\n",
        "\n",
        "\n",
        "\n",
        "data = pd.read_csv('/content/Time-Wasters on Social Media.csv')\n",
        "print(data.head)\n",
        "\n",
        "\n",
        "edges = data.groupby(['Platform', 'Scroll Rate']).agg({'Total Time Spent':'sum'}).reset_index()\n",
        "edges.sort_values('Total Time Spent', ascending=False).head()\n",
        "\n",
        "\n",
        "\n",
        "weighted_degrees = dict(nx.degree(GOT,weight='Total Time Spent'))\n",
        "max_degree = max(weighted_degrees.values())\n",
        "\n",
        "\n",
        "GOT = nx.from_pandas_edgelist(edges,\n",
        "                            source='Platform',\n",
        "                            target='Scroll Rate',\n",
        "                            edge_attr='Total Time Spent' )\n",
        "\n",
        "\n",
        "\n",
        "import seaborn as sns\n",
        "\n",
        "h = plt.hist(weighted_degrees.values(), bins = 30)\n",
        "\n",
        "subG = GOT.subgraph([n for n in weighted_degrees if weighted_degrees[n]>300])\n",
        "\n",
        "\n",
        "num1_nodes = subG.number_of_nodes()\n",
        "num1_edges = subG.number_of_edges()\n",
        "\n",
        "print('Number of nodes:', num1_nodes)\n",
        "print('Number of edges:', num1_edges)\n",
        "\n",
        "\n",
        "pos = nx.spring_layout(subG,weight='Total Time Spent',iterations=20, k = 5)\n",
        "\n",
        "\n",
        "plt.axis('off')\n",
        "plt.title('Time wasters on Social Media',fontsize = 24)\n",
        "\n",
        "\n",
        "for node in subG.nodes():\n",
        "    size = 100*weighted_degrees[node]**0.5\n",
        "    ns = nx.draw_networkx_nodes(subG,pos,nodelist=[node], node_size=size, node_color='#009fe3')\n",
        "    ns.set_edgecolor('#f2f6fa')\n",
        "nx.draw_networkx_labels(subG, pos, {n: str(n).replace('.', '\\n') for n in subG.nodes() if weighted_degrees[n] > 100}, font_size=10)\n",
        "for e in subG.edges(data=True):\n",
        "    if e[2]['Total Time Spent']>10:\n",
        "        nx.draw_networkx_edges(subG,pos,[e],width=e[2]['Total Time Spent']/100,edge_color='#707070')\n",
        "\n",
        "\n",
        "\n",
        "top = pd.DataFrame.from_dict(dict(nx.degree(subG)),orient='index').sort_values(0,ascending=False)\n",
        "top.columns = ['Degree']\n",
        "top['Weighted Degree'] =  pd.DataFrame.from_dict(dict(nx.degree(subG,weight='Total Time Spent')),orient='index')\n",
        "top['PageRank'] = pd.DataFrame.from_dict(dict(nx.pagerank(subG, weight='Total Time Spent')), orient='index')\n",
        "top['Betweenness'] =  pd.DataFrame.from_dict(dict(nx.betweenness_centrality(subG,weight='Total Time Spent')),orient='index')\n"
      ],
      "metadata": {
        "id": "wYptUHvh1ut8"
      },
      "execution_count": null,
      "outputs": []
    }
  ]
}